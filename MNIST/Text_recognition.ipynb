{
 "cells": [
  {
   "cell_type": "code",
   "execution_count": 65,
   "metadata": {},
   "outputs": [],
   "source": [
    "from keras.datasets import mnist\n",
    "from keras.models import Sequential\n",
    "from keras.layers import Dense, Flatten, Activation, Dropout\n",
    "from keras.utils import np_utils\n",
    "from keras.callbacks import ModelCheckpoint\n",
    "import matplotlib.pyplot as plt\n",
    "import matplotlib.cm as cm\n",
    "import numpy as np\n",
    "%matplotlib inline"
   ]
  },
  {
   "cell_type": "code",
   "execution_count": 37,
   "metadata": {},
   "outputs": [
    {
     "data": {
      "image/png": "[encoded data removed]",
      "text/plain": [
       "<Figure size 2016x2016 with 6 Axes>"
      ]
     },
     "metadata": {},
     "output_type": "display_data"
    }
   ],
   "source": [
    "(X_train, y_train), (X_test, y_test) = mnist.load_data()\n",
    "\n",
    "# visualizing the data\n",
    "figure = plt.figure(figsize=(28,28))\n",
    "for i in range(6):\n",
    "    ax = figure.add_subplot(1,6,i+1)\n",
    "    ax.imshow(X_train[i], cmap='gray')\n",
    "    ax.set_title(str(y_train[i]))"
   ]
  },
  {
   "cell_type": "code",
   "execution_count": 38,
   "metadata": {},
   "outputs": [],
   "source": [
    "#normalizing the features so that each pixel has a value between 0 and 1\n",
    "\n",
    "X_train = X_train.astype('float32')/255\n",
    "X_test = X_test.astype('float32')/255\n"
   ]
  },
  {
   "cell_type": "code",
   "execution_count": 39,
   "metadata": {},
   "outputs": [
    {
     "name": "stdout",
     "output_type": "stream",
     "text": [
      "Integer labels: [5 0 4 1 9]\n"
     ]
    }
   ],
   "source": [
    "print('Integer labels:', y_train[0:5])"
   ]
  },
  {
   "cell_type": "code",
   "execution_count": 40,
   "metadata": {},
   "outputs": [
    {
     "name": "stdout",
     "output_type": "stream",
     "text": [
      "One hot encoded labels [[0. 0. 0. 0. 0. 1. 0. 0. 0. 0.]\n",
      " [1. 0. 0. 0. 0. 0. 0. 0. 0. 0.]\n",
      " [0. 0. 0. 0. 1. 0. 0. 0. 0. 0.]\n",
      " [0. 1. 0. 0. 0. 0. 0. 0. 0. 0.]\n",
      " [0. 0. 0. 0. 0. 0. 0. 0. 0. 1.]]\n"
     ]
    }
   ],
   "source": [
    "#one hot encoding the labels\n",
    "y_train = np_utils.to_categorical(y_train, 10)\n",
    "y_test = np_utils.to_categorical(y_test, 10)\n",
    "print('One hot encoded labels', y_train[0:5])"
   ]
  },
  {
   "cell_type": "code",
   "execution_count": 52,
   "metadata": {},
   "outputs": [
    {
     "name": "stdout",
     "output_type": "stream",
     "text": [
      "_________________________________________________________________\n",
      "Layer (type)                 Output Shape              Param #   \n",
      "=================================================================\n",
      "flatten_13 (Flatten)         (None, 784)               0         \n",
      "_________________________________________________________________\n",
      "dense_26 (Dense)             (None, 512)               401920    \n",
      "_________________________________________________________________\n",
      "dropout_3 (Dropout)          (None, 512)               0         \n",
      "_________________________________________________________________\n",
      "activation_25 (Activation)   (None, 512)               0         \n",
      "_________________________________________________________________\n",
      "dense_27 (Dense)             (None, 512)               262656    \n",
      "_________________________________________________________________\n",
      "dropout_4 (Dropout)          (None, 512)               0         \n",
      "_________________________________________________________________\n",
      "activation_26 (Activation)   (None, 512)               0         \n",
      "_________________________________________________________________\n",
      "dense_28 (Dense)             (None, 10)                5130      \n",
      "_________________________________________________________________\n",
      "activation_27 (Activation)   (None, 10)                0         \n",
      "=================================================================\n",
      "Total params: 669,706\n",
      "Trainable params: 669,706\n",
      "Non-trainable params: 0\n",
      "_________________________________________________________________\n"
     ]
    }
   ],
   "source": [
    "model = Sequential()\n",
    "model.add(Flatten(input_shape=X_train.shape[1:])) #flatten image to a row vector\n",
    "model.add(Dense(512)) #add 1st hidden layer with 512 nodes\n",
    "model.add(Dropout(0.3)) #add a dropout so that each node has a probability=0.4 of being dropped\n",
    "model.add(Activation('relu')) #activation of 1st hidden layer is relu\n",
    "model.add(Dense(512)) #add 2nd hidden layer with 512 nodes\n",
    "model.add(Dropout(0.3)) #add a dropout so that each node has a probability=0.4 of being dropped\n",
    "model.add(Activation('relu')) #activation of 2nd hidden layer is rely\n",
    "model.add(Dense(10)) #add output layer with 10 nodes\n",
    "model.add(Activation('softmax')) #activation of output layer is softmax to give us probability that image belongs to certain class\n",
    "\n",
    "model.summary()"
   ]
  },
  {
   "cell_type": "code",
   "execution_count": 72,
   "metadata": {},
   "outputs": [],
   "source": [
    "#compiling the model\n",
    "model.compile(loss='categorical_crossentropy', optimizer='SGD', metrics=['accuracy'])"
   ]
  },
  {
   "cell_type": "code",
   "execution_count": 73,
   "metadata": {},
   "outputs": [
    {
     "name": "stdout",
     "output_type": "stream",
     "text": [
      "Test score=97.9900\n"
     ]
    }
   ],
   "source": [
    "#evaluating the model on arbitrary weights\n",
    "score = model.evaluate(X_test, y_test, verbose=2)\n",
    "accuracy=score[1]*100 #score[0] returns loss value, score[1] returns metrics value which is accuracy in this case\n",
    "print('Test score=%.4f' %accuracy)"
   ]
  },
  {
   "cell_type": "code",
   "execution_count": 74,
   "metadata": {},
   "outputs": [
    {
     "name": "stdout",
     "output_type": "stream",
     "text": [
      "Train on 48000 samples, validate on 12000 samples\n",
      "Epoch 1/10\n",
      " - 6s - loss: 0.0290 - acc: 0.9911 - val_loss: 0.0808 - val_acc: 0.9811\n",
      "\n",
      "Epoch 00001: val_loss improved from inf to 0.08082, saving model to mnist.model.best.hdf5\n",
      "Epoch 2/10\n",
      " - 6s - loss: 0.0252 - acc: 0.9921 - val_loss: 0.0790 - val_acc: 0.9817\n",
      "\n",
      "Epoch 00002: val_loss improved from 0.08082 to 0.07896, saving model to mnist.model.best.hdf5\n",
      "Epoch 3/10\n",
      " - 6s - loss: 0.0227 - acc: 0.9927 - val_loss: 0.0785 - val_acc: 0.9814\n",
      "\n",
      "Epoch 00003: val_loss improved from 0.07896 to 0.07849, saving model to mnist.model.best.hdf5\n",
      "Epoch 4/10\n",
      " - 6s - loss: 0.0211 - acc: 0.9937 - val_loss: 0.0786 - val_acc: 0.9818\n",
      "\n",
      "Epoch 00004: val_loss did not improve from 0.07849\n",
      "Epoch 5/10\n",
      " - 6s - loss: 0.0208 - acc: 0.9936 - val_loss: 0.0783 - val_acc: 0.9816\n",
      "\n",
      "Epoch 00005: val_loss improved from 0.07849 to 0.07831, saving model to mnist.model.best.hdf5\n",
      "Epoch 6/10\n",
      " - 5s - loss: 0.0208 - acc: 0.9935 - val_loss: 0.0785 - val_acc: 0.9817\n",
      "\n",
      "Epoch 00006: val_loss did not improve from 0.07831\n",
      "Epoch 7/10\n",
      " - 6s - loss: 0.0189 - acc: 0.9944 - val_loss: 0.0785 - val_acc: 0.9818\n",
      "\n",
      "Epoch 00007: val_loss did not improve from 0.07831\n",
      "Epoch 8/10\n",
      " - 6s - loss: 0.0205 - acc: 0.9940 - val_loss: 0.0776 - val_acc: 0.9820\n",
      "\n",
      "Epoch 00008: val_loss improved from 0.07831 to 0.07760, saving model to mnist.model.best.hdf5\n",
      "Epoch 9/10\n",
      " - 6s - loss: 0.0178 - acc: 0.9945 - val_loss: 0.0775 - val_acc: 0.9821\n",
      "\n",
      "Epoch 00009: val_loss improved from 0.07760 to 0.07754, saving model to mnist.model.best.hdf5\n",
      "Epoch 10/10\n",
      " - 6s - loss: 0.0184 - acc: 0.9945 - val_loss: 0.0776 - val_acc: 0.9818\n",
      "\n",
      "Epoch 00010: val_loss did not improve from 0.07754\n"
     ]
    },
    {
     "data": {
      "text/plain": [
       "<keras.callbacks.History at 0x1b2cc9fc6a0>"
      ]
     },
     "execution_count": 74,
     "metadata": {},
     "output_type": "execute_result"
    }
   ],
   "source": [
    "#make a check point for model to save weights \n",
    "checkpointer = ModelCheckpoint(filepath='mnist.model.best.hdf5', verbose=1, save_best_only = True)\n",
    "#fit the model and pass it the checkpointer\n",
    "model.fit(X_train, y_train, batch_size = 150, epochs = 10, validation_split=0.2, callbacks=[checkpointer], verbose=2,\n",
    "         shuffle = True)"
   ]
  },
  {
   "cell_type": "code",
   "execution_count": 75,
   "metadata": {},
   "outputs": [],
   "source": [
    "#loading the weights that got the best validation accuracy\n",
    "model.load_weights('mnist.model.best.hdf5')"
   ]
  },
  {
   "cell_type": "code",
   "execution_count": 76,
   "metadata": {},
   "outputs": [
    {
     "name": "stdout",
     "output_type": "stream",
     "text": [
      "10000/10000 [==============================] - 1s 119us/step\n",
      "Accuracy of testing set: 98.4800\n"
     ]
    }
   ],
   "source": [
    "#evaluating the model on the testing set\n",
    "score = model.evaluate(X_test, y_test, verbose=1)\n",
    "accuracy = score[1]*100\n",
    "print('Accuracy of testing set: %.4f' %accuracy)"
   ]
  },
  {
   "cell_type": "code",
   "execution_count": null,
   "metadata": {},
   "outputs": [],
   "source": []
  }
 ],
 "metadata": {
  "kernelspec": {
   "display_name": "Python 3",
   "language": "python",
   "name": "python3"
  },
  "language_info": {
   "codemirror_mode": {
    "name": "ipython",
    "version": 3
   },
   "file_extension": ".py",
   "mimetype": "text/x-python",
   "name": "python",
   "nbconvert_exporter": "python",
   "pygments_lexer": "ipython3",
   "version": "3.6.5"
  }
 },
 "nbformat": 4,
 "nbformat_minor": 2
}
